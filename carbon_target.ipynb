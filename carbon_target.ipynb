{
  "cells": [
    {
      "cell_type": "markdown",
      "metadata": {
        "id": "view-in-github",
        "colab_type": "text"
      },
      "source": [
        "<a href=\"https://colab.research.google.com/github/decembersnow1234/13_democratiser_sobriete/blob/main/carbon_target.ipynb\" target=\"_parent\"><img src=\"https://colab.research.google.com/assets/colab-badge.svg\" alt=\"Open In Colab\"/></a>"
      ]
    },
    {
      "cell_type": "code",
      "execution_count": null,
      "metadata": {
        "id": "WzXIewMrA35L"
      },
      "outputs": [],
      "source": [
        "import pandas as pd\n",
        "import numpy as np"
      ]
    },
    {
      "cell_type": "markdown",
      "metadata": {
        "id": "OsBfd38pA35V"
      },
      "source": [
        "# CO2"
      ]
    },
    {
      "cell_type": "code",
      "execution_count": null,
      "metadata": {
        "id": "3IrAUsORA35a"
      },
      "outputs": [],
      "source": [
        "emissions = pd.read_csv(\"C:/Users/valentin.stuhlfauth/OneDrive - univ-lyon2.fr/Bureau/climate_neutrality_target/EDGAR- Total fossil_CO2.csv\",sep=';', encoding='latin1')"
      ]
    },
    {
      "cell_type": "code",
      "execution_count": null,
      "metadata": {
        "id": "N7K3QiupA35c",
        "outputId": "c0443b97-176f-46ee-aba8-f77f98efd070"
      },
      "outputs": [
        {
          "data": {
            "text/plain": [
              "66    385,2720254\n",
              "Name: 1990, dtype: object"
            ]
          },
          "execution_count": 5,
          "metadata": {},
          "output_type": "execute_result"
        }
      ],
      "source": [
        "emissions[emissions[\"Country\"]==\"France and Monaco\"][\"1990\"]"
      ]
    },
    {
      "cell_type": "code",
      "execution_count": null,
      "metadata": {
        "id": "MMKcPfxzA35g"
      },
      "outputs": [],
      "source": [
        "# EDGAR- Total fossil_CO2.csv\n",
        "emissions = pd.read_csv(\"C:/Users/valentin.stuhlfauth/OneDrive - univ-lyon2.fr/Bureau/climate_neutrality_target/EDGAR- Total fossil_CO2.csv\",sep=';', encoding='latin1')\n",
        "# UN population projections.csv\n",
        "population = pd.read_csv(\"C:/Users/valentin.stuhlfauth/OneDrive - univ-lyon2.fr/Bureau/climate_neutrality_target/UN population projections.csv\",sep=';', encoding='latin1')"
      ]
    },
    {
      "cell_type": "code",
      "execution_count": null,
      "metadata": {
        "id": "PKmL319fA35h"
      },
      "outputs": [],
      "source": [
        "# Convert emission columns to numeric\n",
        "emission_cols = [str(year) for year in range(1990, 2024)]\n",
        "for col in emission_cols:\n",
        "    emissions[col] = pd.to_numeric(emissions[col].astype(str).str.replace(',', '.'), errors='coerce')\n",
        "\n",
        "# Convert population['2050'] to numeric safely\n",
        "population['2050'] = pd.to_numeric(population['2050'].astype(str).str.replace(',', '.'), errors='coerce')\n",
        "\n",
        "# Step 2: Sum the numeric values\n",
        "POP_GLOBAL_2050 = population['2050'].sum()"
      ]
    },
    {
      "cell_type": "markdown",
      "metadata": {
        "id": "Qli4RVyZA35i"
      },
      "source": [
        "## Correct country names"
      ]
    },
    {
      "cell_type": "code",
      "execution_count": null,
      "metadata": {
        "id": "ufPoKPrcA35k"
      },
      "outputs": [],
      "source": [
        "# Standardize column names\n",
        "pop_col = \"Region, subregion, country or area *\"\n",
        "emis_col = \"Country\"\n",
        "\n",
        "# Get unique country names\n",
        "pop_countries = set(population[pop_col].unique())\n",
        "emis_countries = set(emissions[emis_col].unique())\n",
        "\n",
        "# Find mismatches\n",
        "unmatched_emis = emis_countries - pop_countries\n",
        "unmatched_pop = pop_countries - emis_countries"
      ]
    },
    {
      "cell_type": "code",
      "execution_count": null,
      "metadata": {
        "id": "wjyvJ9CLA35m",
        "outputId": "406bc1fa-2701-407f-ac7d-6704d8b7bd0b"
      },
      "outputs": [
        {
          "name": "stderr",
          "output_type": "stream",
          "text": [
            "c:\\Users\\valentin.stuhlfauth\\AppData\\Local\\anaconda3\\Lib\\site-packages\\fuzzywuzzy\\fuzz.py:11: UserWarning: Using slow pure-python SequenceMatcher. Install python-Levenshtein to remove this warning\n",
            "  warnings.warn('Using slow pure-python SequenceMatcher. Install python-Levenshtein to remove this warning')\n"
          ]
        }
      ],
      "source": [
        "from fuzzywuzzy import process\n",
        "\n",
        "# Fuzzy matching function (handling NaN and converting to string)\n",
        "def get_best_match(country, choices, threshold=80):\n",
        "    if pd.isna(country):  # Ignore NaN values\n",
        "        return None\n",
        "    country = str(country)  # Ensure it's a string\n",
        "    match, score = process.extractOne(country, [str(choice) for choice in choices])  # Convert choices to strings\n",
        "    return match if score >= threshold else None\n",
        "\n",
        "# Find closest matches\n",
        "emis_matches = {country: get_best_match(country, pop_countries) for country in unmatched_emis}\n",
        "pop_matches = {country: get_best_match(country, emis_countries) for country in unmatched_pop}\n",
        "\n",
        "# Create a DataFrame for manual correction\n",
        "emis_unmatched_df = pd.DataFrame(list(emis_matches.items()), columns=[\"Original\", \"Suggested\"])\n",
        "emis_unmatched_df[\"Manual_Correction\"] = \"\"  # Column for manual edits\n",
        "\n",
        "pop_unmatched_df = pd.DataFrame(list(pop_matches.items()), columns=[\"Original\", \"Suggested\"])\n",
        "pop_unmatched_df[\"Manual_Correction\"] = \"\"  # Column for manual edits"
      ]
    },
    {
      "cell_type": "code",
      "execution_count": null,
      "metadata": {
        "id": "BavEiDPSA35n"
      },
      "outputs": [],
      "source": [
        "emis_unmatched_df.to_csv(\"C:/Users/valentin.stuhlfauth/Downloads/emis_unmatched_df.csv\", index=False)\n",
        "pop_unmatched_df.to_csv(\"C:/Users/valentin.stuhlfauth/Downloads/pop_unmatched_df.csv\", index=False)"
      ]
    },
    {
      "cell_type": "markdown",
      "metadata": {
        "id": "NYTrla08A35o"
      },
      "source": [
        "## Preparing data"
      ]
    },
    {
      "cell_type": "code",
      "execution_count": null,
      "metadata": {
        "id": "C-5xQ5OWA35p"
      },
      "outputs": [],
      "source": [
        "pop_matched = pd.read_csv(\n",
        "    \"C:/Users/valentin.stuhlfauth/OneDrive - univ-lyon2.fr/Bureau/climate_neutrality_target/pop_matched_df_eora.csv\",\n",
        "    sep=\";\"\n",
        ")"
      ]
    },
    {
      "cell_type": "code",
      "execution_count": null,
      "metadata": {
        "id": "kndLTNh5A35q"
      },
      "outputs": [],
      "source": [
        "# Extract relevant columns\n",
        "pop_col = \"Region, subregion, country or area *\"\n",
        "population = population[[pop_col, \"2050\"]]\n",
        "\n",
        "# Drop NaN values in Manual_Correction\n",
        "pop_matched = pop_matched.dropna(subset=[\"Manual_Correction\"], how='all')\n",
        "\n",
        "# Create a mapping dictionary\n",
        "correction_map = {}\n",
        "for _, row in pop_matched.iterrows():\n",
        "    if row[\"Manual_Correction\"] == \"OK\":\n",
        "        correction_map[row[\"Original\"]] = row[\"Suggested\"]\n",
        "    else:\n",
        "        correction_map[row[\"Original\"]] = row[\"Manual_Correction\"]\n",
        "\n",
        "# Apply corrections to population DataFrame\n",
        "population[\"corrected_country\"] = population[pop_col].replace(correction_map)\n",
        "\n",
        "# Handle multiple rows mapping to the same country by summing population\n",
        "population_final = population.groupby(\"corrected_country\", as_index=False)[\"2050\"].sum()"
      ]
    },
    {
      "cell_type": "code",
      "execution_count": null,
      "metadata": {
        "id": "xi9v_0HjA35q"
      },
      "outputs": [],
      "source": [
        "# Save the final cleaned dataset\n",
        "population_final.to_csv(\"C:/Users/valentin.stuhlfauth/OneDrive - univ-lyon2.fr/Bureau/climate_neutrality_target/pop_modified.csv\", index=False)"
      ]
    },
    {
      "cell_type": "markdown",
      "metadata": {
        "id": "TUOO-XBbA35r"
      },
      "source": [
        "## RCB"
      ]
    },
    {
      "cell_type": "markdown",
      "metadata": {
        "id": "RFuVDKVmA35r"
      },
      "source": [
        "### 2°C"
      ]
    },
    {
      "cell_type": "code",
      "execution_count": null,
      "metadata": {
        "id": "Pwe62ywvA35s"
      },
      "outputs": [],
      "source": [
        "emissions[\"Total_Emissions_1990_2023\"] = emissions.loc[:, \"1990\":\"2023\"].sum(axis=1)"
      ]
    },
    {
      "cell_type": "code",
      "execution_count": null,
      "metadata": {
        "id": "82MGKvkHA35s"
      },
      "outputs": [],
      "source": [
        "import numpy as np\n",
        "import pandas as pd\n",
        "\n",
        "# Define global carbon budgets (in GtCO2, converted to MtCO2)\n",
        "BUDGET_GLOBAL_lamboll = {\"33%\": 1603, \"50%\": 1219, \"67%\": 944}\n",
        "BUDGET_GLOBAL_foster = {\"33%\": 1450, \"50%\": 1150, \"67%\": 950}\n",
        "\n",
        "# Merge population data with emissions\n",
        "df = population_final.merge(emissions[[\"Country\", \"2023\", \"Total_Emissions_1990_2023\"]],\n",
        "                            left_on=\"corrected_country\", right_on=\"Country\")\n",
        "\n",
        "# Create an empty list to store reformatted rows\n",
        "rows = []\n",
        "\n",
        "# List of year columns from the emissions dataframe (adjust based on your data)\n",
        "year_columns = [str(year) for year in range(1970, 2024)]  # Assuming years are from 1970 to 2023\n",
        "\n",
        "# Iterate over all budget scenarios\n",
        "for source, budgets in [(\"lamboll\", BUDGET_GLOBAL_lamboll), (\"foster\", BUDGET_GLOBAL_foster)]:\n",
        "    for prob, BUDGET_GLOBAL in budgets.items():\n",
        "\n",
        "        BUDGET_TOTAL = BUDGET_GLOBAL * 1000  # Convert to MtCO2\n",
        "\n",
        "        for method in [\"equality\", \"responsability\"]:\n",
        "            if method == \"equality\":\n",
        "                remaining_carbon_budget = (BUDGET_TOTAL / POP_GLOBAL_2050) * df[\"2050\"]\n",
        "            else:\n",
        "                remaining_carbon_budget = (\n",
        "                    (df[\"Total_Emissions_1990_2023\"].sum() + BUDGET_TOTAL) * (df[\"2050\"] / POP_GLOBAL_2050)\n",
        "                    - df[\"Total_Emissions_1990_2023\"]\n",
        "                )\n",
        "\n",
        "            time_to_neutrality_lin = 2 * remaining_carbon_budget / df[\"2023\"]\n",
        "            time_to_neutrality_exp = -np.log(1 - 0.95) * remaining_carbon_budget / df[\"2023\"]\n",
        "\n",
        "            for curve, time_to_neutrality in [(\"linear\", time_to_neutrality_lin), (\"exponential\", time_to_neutrality_exp)]:\n",
        "\n",
        "                for _, row in df.iterrows():\n",
        "                    remaining_budget = remaining_carbon_budget.loc[row.name]\n",
        "                    time_to_neutrality_value = time_to_neutrality.loc[row.name]\n",
        "\n",
        "                    # Check if remaining_carbon_budget is negative and adjust time_to_neutrality\n",
        "                    if remaining_budget < 0:\n",
        "                        # Start summing emissions backwards from 2023\n",
        "                        cumulative_emissions = 0\n",
        "                        country = row[\"Country\"]\n",
        "\n",
        "                        # Iterate through years from 2023 to 1970\n",
        "                        for year in range(2023, 1969, -1):\n",
        "                            # Access the emissions for the country and year from the emissions DataFrame\n",
        "                            emissions_year = emissions.loc[emissions[\"Country\"] == country, str(year)].values[0]\n",
        "                            cumulative_emissions += emissions_year\n",
        "\n",
        "                            # If cumulative emissions exceed the negative remaining budget, break\n",
        "                            if cumulative_emissions >= abs(remaining_budget):\n",
        "                                time_to_neutrality_value = - (2023 - year-1)\n",
        "                                break\n",
        "\n",
        "                    # Append the results to the rows list\n",
        "                    rows.append({\n",
        "                        \"country\": row[\"Country\"],\n",
        "                        \"emission_2023\": row[\"2023\"],\n",
        "                        \"population_2050\": row[\"2050\"],\n",
        "                        \"repartition_method\": method,\n",
        "                        \"source_of_budget\": source,\n",
        "                        \"probability_of_reach\": prob,\n",
        "                        \"curve_type\": curve,\n",
        "                        \"remaining_carbon_budget\": remaining_budget,  # Store the computed value\n",
        "                        \"time_to_neutrality\": time_to_neutrality_value  # Store the computed value\n",
        "                    })\n",
        "\n",
        "# Convert list to DataFrame\n",
        "df_final = pd.DataFrame(rows)"
      ]
    },
    {
      "cell_type": "code",
      "execution_count": null,
      "metadata": {
        "id": "Uy6u9Iv9A35t"
      },
      "outputs": [],
      "source": [
        "# Save the final cleaned dataset\n",
        "df_final.to_excel(\"C:/Users/valentin.stuhlfauth/OneDrive - univ-lyon2.fr/Bureau/carbon_budget_2°C.xlsx\", index=False)"
      ]
    },
    {
      "cell_type": "markdown",
      "metadata": {
        "id": "5DiC_8IvA35t"
      },
      "source": [
        "### 1.5°C"
      ]
    },
    {
      "cell_type": "code",
      "execution_count": null,
      "metadata": {
        "id": "CAcIgEPnA35u"
      },
      "outputs": [],
      "source": [
        "import numpy as np\n",
        "import pandas as pd\n",
        "\n",
        "# Define the global carbon budgets (in GtCO2, converted to MtCO2)\n",
        "BUDGET_GLOBAL_lamboll = {\"33%\": 480, \"50%\": 247, \"67%\": 60}\n",
        "BUDGET_GLOBAL_foster = {\"33%\": 300, \"50%\": 250, \"67%\": 150}\n",
        "\n",
        "# Merge population data with emissions\n",
        "df = population_final.merge(emissions[[\"Country\", \"2023\", \"Total_Emissions_1990_2023\"]],\n",
        "                            left_on=\"corrected_country\", right_on=\"Country\")\n",
        "\n",
        "# Create an empty list to store reformatted rows\n",
        "rows = []\n",
        "\n",
        "# List of year columns from the emissions dataframe (adjust based on your data)\n",
        "year_columns = [str(year) for year in range(1970, 2024)]  # Assuming years are from 1970 to 2023\n",
        "\n",
        "# Iterate over all budget scenarios\n",
        "for source, budgets in [(\"lamboll\", BUDGET_GLOBAL_lamboll), (\"foster\", BUDGET_GLOBAL_foster)]:\n",
        "    for prob, BUDGET_GLOBAL in budgets.items():\n",
        "\n",
        "        BUDGET_TOTAL = BUDGET_GLOBAL * 1000  # Convert to MtCO2\n",
        "\n",
        "        for method in [\"equality\", \"responsability\"]:\n",
        "            if method == \"equality\":\n",
        "                remaining_carbon_budget = (BUDGET_TOTAL / POP_GLOBAL_2050) * df[\"2050\"]\n",
        "            else:\n",
        "                remaining_carbon_budget = (\n",
        "                    (df[\"Total_Emissions_1990_2023\"].sum() + BUDGET_TOTAL) * (df[\"2050\"] / POP_GLOBAL_2050)\n",
        "                    - df[\"Total_Emissions_1990_2023\"]\n",
        "                )\n",
        "\n",
        "            time_to_neutrality_lin = 2 * remaining_carbon_budget / df[\"2023\"]\n",
        "            time_to_neutrality_exp = -np.log(1 - 0.95) * remaining_carbon_budget / df[\"2023\"]\n",
        "\n",
        "            for curve, time_to_neutrality in [(\"linear\", time_to_neutrality_lin), (\"exponential\", time_to_neutrality_exp)]:\n",
        "\n",
        "                for _, row in df.iterrows():\n",
        "                    remaining_budget = remaining_carbon_budget.loc[row.name]\n",
        "                    time_to_neutrality_value = time_to_neutrality.loc[row.name]\n",
        "\n",
        "                    # Check if remaining_carbon_budget is negative and adjust time_to_neutrality\n",
        "                    if remaining_budget < 0:\n",
        "                        # Start summing emissions backwards from 2023\n",
        "                        cumulative_emissions = 0\n",
        "                        country = row[\"Country\"]\n",
        "\n",
        "                        # Iterate through years from 2023 to 1970\n",
        "                        for year in range(2023, 1969, -1):\n",
        "                            # Access the emissions for the country and year from the emissions DataFrame\n",
        "                            emissions_year = emissions.loc[emissions[\"Country\"] == country, str(year)].values[0]\n",
        "                            cumulative_emissions += emissions_year\n",
        "\n",
        "                            # If cumulative emissions exceed the negative remaining budget, break\n",
        "                            if cumulative_emissions >= abs(remaining_budget):\n",
        "                                time_to_neutrality_value = - (2023 - year-1)\n",
        "                                break\n",
        "\n",
        "                    # Append the results to the rows list\n",
        "                    rows.append({\n",
        "                        \"country\": row[\"Country\"],\n",
        "                        \"emission_2023\": row[\"2023\"],\n",
        "                        \"population_2050\": row[\"2050\"],\n",
        "                        \"repartition_method\": method,\n",
        "                        \"source_of_budget\": source,\n",
        "                        \"probability_of_reach\": prob,\n",
        "                        \"curve_type\": curve,\n",
        "                        \"remaining_carbon_budget\": remaining_budget,  # Store the computed value\n",
        "                        \"time_to_neutrality\": time_to_neutrality_value  # Store the computed value\n",
        "                    })\n",
        "\n",
        "# Convert list to DataFrame\n",
        "df_final = pd.DataFrame(rows)"
      ]
    },
    {
      "cell_type": "code",
      "execution_count": null,
      "metadata": {
        "id": "aGyAF_AkA35u"
      },
      "outputs": [],
      "source": [
        "# Save the final cleaned dataset\n",
        "df_final.to_excel(\"C:/Users/valentin.stuhlfauth/OneDrive - univ-lyon2.fr/Bureau/carbon_budget_1.5°C.xlsx\", index=False)"
      ]
    },
    {
      "cell_type": "markdown",
      "metadata": {
        "id": "JRd3d73GA35v"
      },
      "source": [
        "### EU"
      ]
    },
    {
      "cell_type": "code",
      "execution_count": null,
      "metadata": {
        "id": "nFzuiePfA35v"
      },
      "outputs": [],
      "source": [
        "EU_list = [\"Austria\", \"Belgium\",\n",
        "\"Bulgaria\",\n",
        "\"Croatia\",\n",
        "\"Cyprus\",\n",
        "\"Czech Republic\",\n",
        "\"Denmark\",\n",
        "\"Estonia\",\n",
        "\"Finland\",\n",
        "\"France\",\n",
        "\"Germany\",\n",
        "\"Greece\",\n",
        "\"Hungary\",\n",
        "\"Ireland\",\n",
        "\"Italy\",\n",
        "\"Latvia\",\n",
        "\"Lithuania\",\n",
        "\"Luxembourg\",\n",
        "\"Malta\",\n",
        "\"Netherlands\",\n",
        "\"Poland\",\n",
        "\"Portugal\",\n",
        "\"Romania\",\n",
        "\"Slovakia\",\n",
        "\"Slovenia\",\n",
        "\"Spain\",\n",
        "\"Sweden\"]"
      ]
    },
    {
      "cell_type": "code",
      "execution_count": null,
      "metadata": {
        "id": "yha3n6jrA35w",
        "outputId": "ab976a6b-e99e-4e3e-e653-9f2f96119d4a"
      },
      "outputs": [
        {
          "data": {
            "text/plain": [
              "['Italy', 'Spain', 'France', 'Czech Republic']"
            ]
          },
          "execution_count": 20,
          "metadata": {},
          "output_type": "execute_result"
        }
      ],
      "source": [
        "list(set(EU_list) - set(df[df[\"Country\"].isin(EU_list)][\"Country\"]))"
      ]
    },
    {
      "cell_type": "code",
      "execution_count": null,
      "metadata": {
        "id": "DnPBdJcnA35w"
      },
      "outputs": [],
      "source": [
        "EU_list_corrected = [\"Italy, San Marino and the Holy See\",\"Czechia\",\"France and Monaco\",\"Spain and Andorra\"] + [\"Austria\", \"Belgium\",\n",
        "\"Bulgaria\",\n",
        "\"Croatia\",\n",
        "\"Cyprus\",\n",
        "\"Denmark\",\n",
        "\"Estonia\",\n",
        "\"Finland\",\n",
        "\"Germany\",\n",
        "\"Greece\",\n",
        "\"Hungary\",\n",
        "\"Ireland\",\n",
        "\"Latvia\",\n",
        "\"Lithuania\",\n",
        "\"Luxembourg\",\n",
        "\"Malta\",\n",
        "\"Netherlands\",\n",
        "\"Poland\",\n",
        "\"Portugal\",\n",
        "\"Romania\",\n",
        "\"Slovakia\",\n",
        "\"Slovenia\",\n",
        "\"Sweden\"]"
      ]
    },
    {
      "cell_type": "code",
      "execution_count": null,
      "metadata": {
        "id": "IpxGGWzhA35x"
      },
      "outputs": [],
      "source": [
        "df_EU=df_final[df_final[\"country\"].isin(EU_list_corrected)]\n",
        "\n",
        "df_summed = df_EU.groupby(['repartition_method','source_of_budget', 'probability_of_reach', 'curve_type'], as_index=False).sum(numeric_only=True)"
      ]
    },
    {
      "cell_type": "code",
      "execution_count": null,
      "metadata": {
        "id": "Wijh8sDWA35x"
      },
      "outputs": [],
      "source": [
        "# Save the final cleaned dataset\n",
        "df_EU.to_excel(\"C:/Users/valentin.stuhlfauth/OneDrive - univ-lyon2.fr/Bureau/carbon_budget_2°C_EU_countries.xlsx\", index=False)"
      ]
    },
    {
      "cell_type": "code",
      "execution_count": null,
      "metadata": {
        "id": "UYSZMISyA35x"
      },
      "outputs": [],
      "source": [
        "# Save the final cleaned dataset\n",
        "df_EU.to_excel(\"C:/Users/valentin.stuhlfauth/OneDrive - univ-lyon2.fr/Bureau/carbon_budget_1.5°C_EU_countries.xlsx\", index=False)"
      ]
    },
    {
      "cell_type": "code",
      "execution_count": null,
      "metadata": {
        "id": "_dUzF4S1A35y"
      },
      "outputs": [],
      "source": [
        "# Compute time_to_neutrality\n",
        "for idx, row in df_summed.iterrows():\n",
        "    remaining_budget = row[\"remaining_carbon_budget\"]\n",
        "    emission_2023 = row[\"emission_2023\"]  # Total 2023 emissions for the EU\n",
        "\n",
        "    # Compute time_to_neutrality normally if budget is positive\n",
        "    if remaining_budget >= 0:\n",
        "        df_summed.at[idx, \"time_to_neutrality\"] = 2 * remaining_budget / emission_2023  # Linear model\n",
        "    else:\n",
        "        # Handle negative remaining budget by summing past emissions until budget is neutralized\n",
        "        cumulative_emissions = 0\n",
        "        time_to_neutrality_value = np.nan  # Default in case no year meets the condition\n",
        "\n",
        "        # Get total EU emissions per year from the emissions dataframe\n",
        "        EU_emissions = emissions[emissions[\"Country\"].isin(EU_list_corrected)].set_index(\"Country\").loc[:, \"1970\":\"2023\"].sum()\n",
        "\n",
        "        for year in range(2023, 1969, -1):  # Iterate backwards from 2023\n",
        "            cumulative_emissions += EU_emissions[str(year)]\n",
        "\n",
        "            if cumulative_emissions >= abs(remaining_budget):\n",
        "                time_to_neutrality_value = year - 2023 +1\n",
        "                break\n",
        "\n",
        "        df_summed.at[idx, \"time_to_neutrality\"] = time_to_neutrality_value"
      ]
    },
    {
      "cell_type": "code",
      "execution_count": null,
      "metadata": {
        "id": "a3ro2JT5A35y"
      },
      "outputs": [],
      "source": [
        "# Save the final cleaned dataset\n",
        "df_summed.to_excel(\"C:/Users/valentin.stuhlfauth/OneDrive - univ-lyon2.fr/Bureau/carbon_budget_2°C_EU.xlsx\", index=False)"
      ]
    },
    {
      "cell_type": "code",
      "execution_count": null,
      "metadata": {
        "id": "Ue9F0PWjA35z"
      },
      "outputs": [],
      "source": [
        "# Save the final cleaned dataset\n",
        "df_summed.to_excel(\"C:/Users/valentin.stuhlfauth/OneDrive - univ-lyon2.fr/Bureau/carbon_budget_1.5°C_EU.xlsx\", index=False)"
      ]
    },
    {
      "cell_type": "markdown",
      "metadata": {
        "id": "4Z_CBZILA350"
      },
      "source": [
        "# Consumption-based (CBA) - 2022"
      ]
    },
    {
      "cell_type": "code",
      "execution_count": null,
      "metadata": {
        "id": "XtiiKmCSA350"
      },
      "outputs": [],
      "source": [
        "# EDGAR- Total fossil_CO2.csv\n",
        "emissions = pd.read_csv(\"C:/Users/valentin.stuhlfauth/OneDrive - univ-lyon2.fr/Bureau/climate_neutrality_target/EORA_consumption_CO2_1990-2022.csv\",sep=';', encoding='latin1')\n",
        "# UN population projections.csv\n",
        "population = pd.read_csv(\"C:/Users/valentin.stuhlfauth/OneDrive - univ-lyon2.fr/Bureau/climate_neutrality_target/UN population projections.csv\",sep=';', encoding='latin1')\n",
        "\n",
        "# Convert emission columns to numeric and divide by 1,000\n",
        "emission_cols = [str(year) for year in range(1990, 2023)]\n",
        "for col in emission_cols:\n",
        "    emissions[col] = pd.to_numeric(emissions[col].astype(str).str.replace(',', '.'), errors='coerce')/1000\n",
        "\n",
        "# Convert population['2050'] to numeric safely\n",
        "population['2050'] = pd.to_numeric(population['2050'].astype(str).str.replace(',', '.'), errors='coerce')\n",
        "\n",
        "# Step 2: Sum the numeric values\n",
        "POP_GLOBAL_2050 = population['2050'].sum()\n",
        "\n",
        "\n",
        "emissions = emissions.rename(columns={\"ï»¿Country\": \"Country\"})"
      ]
    },
    {
      "cell_type": "markdown",
      "metadata": {
        "id": "iJVDO7_SA351"
      },
      "source": [
        "## Correct country names"
      ]
    },
    {
      "cell_type": "code",
      "execution_count": null,
      "metadata": {
        "id": "AJmD3R3TA351"
      },
      "outputs": [],
      "source": [
        "# Standardize column names\n",
        "pop_col = \"Region, subregion, country or area *\"\n",
        "emis_col = \"Country\"\n",
        "\n",
        "# Get unique country names\n",
        "pop_countries = set(population[pop_col].unique())\n",
        "emis_countries = set(emissions[emis_col].unique())\n",
        "\n",
        "# Find mismatches\n",
        "unmatched_emis = emis_countries - pop_countries\n",
        "unmatched_pop = pop_countries - emis_countries"
      ]
    },
    {
      "cell_type": "code",
      "execution_count": null,
      "metadata": {
        "id": "-XJTWyBgA351"
      },
      "outputs": [],
      "source": [
        "from fuzzywuzzy import process\n",
        "\n",
        "# Fuzzy matching function (handling NaN and converting to string)\n",
        "def get_best_match(country, choices, threshold=80):\n",
        "    if pd.isna(country):  # Ignore NaN values\n",
        "        return None\n",
        "    country = str(country)  # Ensure it's a string\n",
        "    match, score = process.extractOne(country, [str(choice) for choice in choices])  # Convert choices to strings\n",
        "    return match if score >= threshold else None\n",
        "\n",
        "# Find closest matches\n",
        "emis_matches = {country: get_best_match(country, pop_countries) for country in unmatched_emis}\n",
        "pop_matches = {country: get_best_match(country, emis_countries) for country in unmatched_pop}\n",
        "\n",
        "# Create a DataFrame for manual correction\n",
        "emis_unmatched_df = pd.DataFrame(list(emis_matches.items()), columns=[\"Original\", \"Suggested\"])\n",
        "emis_unmatched_df[\"Manual_Correction\"] = \"\"  # Column for manual edits\n",
        "\n",
        "pop_unmatched_df = pd.DataFrame(list(pop_matches.items()), columns=[\"Original\", \"Suggested\"])\n",
        "pop_unmatched_df[\"Manual_Correction\"] = \"\"  # Column for manual edits"
      ]
    },
    {
      "cell_type": "code",
      "execution_count": null,
      "metadata": {
        "id": "8IZdIHjuA352"
      },
      "outputs": [],
      "source": [
        "emis_unmatched_df.to_csv(\"C:/Users/valentin.stuhlfauth/Downloads/emis_unmatched_df.csv\", index=False)\n",
        "pop_unmatched_df.to_csv(\"C:/Users/valentin.stuhlfauth/Downloads/pop_unmatched_df.csv\", index=False)"
      ]
    },
    {
      "cell_type": "markdown",
      "metadata": {
        "id": "xI1hA4E8A352"
      },
      "source": [
        "## Preparing data"
      ]
    },
    {
      "cell_type": "code",
      "execution_count": null,
      "metadata": {
        "id": "uU06YhqdA36C"
      },
      "outputs": [],
      "source": [
        "pop_matched = pd.read_csv(\n",
        "    \"C:/Users/valentin.stuhlfauth/OneDrive - univ-lyon2.fr/Bureau/climate_neutrality_target/pop_matched_df_eora.csv\",\n",
        "    sep=\";\"\n",
        ")"
      ]
    },
    {
      "cell_type": "code",
      "execution_count": null,
      "metadata": {
        "id": "DxahX1yOA36D"
      },
      "outputs": [],
      "source": [
        "# Extract relevant columns\n",
        "pop_col = \"Region, subregion, country or area *\"\n",
        "population = population[[pop_col, \"2050\"]]\n",
        "\n",
        "# Drop NaN values in Manual_Correction\n",
        "pop_matched = pop_matched.dropna(subset=[\"Manual_Correction\"], how='all')\n",
        "\n",
        "# Create a mapping dictionary\n",
        "correction_map = {}\n",
        "for _, row in pop_matched.iterrows():\n",
        "    if row[\"Manual_Correction\"] == \"OK\":\n",
        "        correction_map[row[\"Original\"]] = row[\"Suggested\"]\n",
        "    else:\n",
        "        correction_map[row[\"Original\"]] = row[\"Manual_Correction\"]\n",
        "\n",
        "# Apply corrections to population DataFrame\n",
        "population[\"corrected_country\"] = population[pop_col].replace(correction_map)\n",
        "\n",
        "# Sum emissions from 1990 to 2022\n",
        "df_pop = pd.read_csv(\"C:/Users/valentin.stuhlfauth/OneDrive - univ-lyon2.fr/Bureau/climate_neutrality_target/UN population projections.csv\",sep=';', encoding='latin1')\n",
        "\n",
        "# Handle multiple rows mapping to the same country by summing population\n",
        "population_final = population.groupby(\"corrected_country\", as_index=False)[\"2050\"].sum()"
      ]
    },
    {
      "cell_type": "code",
      "execution_count": null,
      "metadata": {
        "id": "e7u9Wx4WA36E"
      },
      "outputs": [],
      "source": [
        "# Save the final cleaned dataset\n",
        "population_final.to_csv(\"C:/Users/valentin.stuhlfauth/OneDrive - univ-lyon2.fr/Bureau/climate_neutrality_target/pop_modified_eora.csv\", index=False)"
      ]
    },
    {
      "cell_type": "markdown",
      "metadata": {
        "id": "kRi0Ye-1A36E"
      },
      "source": [
        "## RCB"
      ]
    },
    {
      "cell_type": "markdown",
      "metadata": {
        "id": "x5dhCaN3A36F"
      },
      "source": [
        "### 2°C"
      ]
    },
    {
      "cell_type": "code",
      "execution_count": null,
      "metadata": {
        "id": "elWlJs52A36F"
      },
      "outputs": [],
      "source": [
        "emissions[\"Total_Emissions_1990_2022\"] = emissions.loc[:, \"1990\":\"2022\"].sum(axis=1)"
      ]
    },
    {
      "cell_type": "code",
      "execution_count": null,
      "metadata": {
        "id": "rd_D65Q5A36F"
      },
      "outputs": [],
      "source": [
        "import numpy as np\n",
        "import pandas as pd\n",
        "\n",
        "# Define global carbon budgets (in GtCO2, converted to MtCO2)\n",
        "BUDGET_GLOBAL_lamboll = {\"33%\": 1603, \"50%\": 1219, \"67%\": 944}\n",
        "BUDGET_GLOBAL_foster = {\"33%\": 1450, \"50%\": 1150, \"67%\": 950}\n",
        "\n",
        "# Merge population data with emissions\n",
        "df = population_final.merge(emissions[[\"Country\", \"2022\", \"Total_Emissions_1990_2022\"]],\n",
        "                            left_on=\"corrected_country\", right_on=\"Country\")\n",
        "\n",
        "# Create an empty list to store reformatted rows\n",
        "rows = []\n",
        "\n",
        "# List of year columns from the emissions dataframe (adjust based on your data)\n",
        "year_columns = [str(year) for year in range(1990, 2023)]  # Assuming years are from 1990 to 2022\n",
        "\n",
        "# Iterate over all budget scenarios\n",
        "for source, budgets in [(\"lamboll\", BUDGET_GLOBAL_lamboll), (\"foster\", BUDGET_GLOBAL_foster)]:\n",
        "    for prob, BUDGET_GLOBAL in budgets.items():\n",
        "\n",
        "        BUDGET_TOTAL = BUDGET_GLOBAL * 1000  # Convert to MtCO2\n",
        "\n",
        "        for method in [\"equality\", \"responsability\"]:\n",
        "            if method == \"equality\":\n",
        "                remaining_carbon_budget = (BUDGET_TOTAL / POP_GLOBAL_2050) * df[\"2050\"]\n",
        "            else:\n",
        "                remaining_carbon_budget = (\n",
        "                    (df[\"Total_Emissions_1990_2022\"].sum() + BUDGET_TOTAL) * (df[\"2050\"] / POP_GLOBAL_2050)\n",
        "                    - df[\"Total_Emissions_1990_2022\"]\n",
        "                )\n",
        "\n",
        "            time_to_neutrality_lin = 2 * remaining_carbon_budget / df[\"2022\"]\n",
        "            time_to_neutrality_exp = -np.log(1 - 0.95) * remaining_carbon_budget / df[\"2022\"]\n",
        "\n",
        "            for curve, time_to_neutrality in [(\"linear\", time_to_neutrality_lin), (\"exponential\", time_to_neutrality_exp)]:\n",
        "\n",
        "                for _, row in df.iterrows():\n",
        "                    remaining_budget = remaining_carbon_budget.loc[row.name]\n",
        "                    time_to_neutrality_value = time_to_neutrality.loc[row.name]\n",
        "\n",
        "                    # Check if remaining_carbon_budget is negative and adjust time_to_neutrality\n",
        "                    if remaining_budget < 0:\n",
        "                        # Start summing emissions backwards from 2022\n",
        "                        cumulative_emissions = 0\n",
        "                        country = row[\"Country\"]\n",
        "\n",
        "                        # Iterate through years from 2022 to 1970\n",
        "                        for year in range(2022, 1969, -1):\n",
        "                            # Access the emissions for the country and year from the emissions DataFrame\n",
        "                            emissions_year = emissions.loc[emissions[\"Country\"] == country, str(year)].values[0]\n",
        "                            cumulative_emissions += emissions_year\n",
        "\n",
        "                            # If cumulative emissions exceed the negative remaining budget, break\n",
        "                            if cumulative_emissions >= abs(remaining_budget):\n",
        "                                time_to_neutrality_value = - (2022 - year-1)\n",
        "                                break\n",
        "\n",
        "                    # Append the results to the rows list\n",
        "                    rows.append({\n",
        "                        \"country\": row[\"Country\"],\n",
        "                        \"emission_2022\": row[\"2022\"],\n",
        "                        \"population_2050\": row[\"2050\"],\n",
        "                        \"repartition_method\": method,\n",
        "                        \"source_of_budget\": source,\n",
        "                        \"probability_of_reach\": prob,\n",
        "                        \"curve_type\": curve,\n",
        "                        \"remaining_carbon_budget\": remaining_budget,  # Store the computed value\n",
        "                        \"time_to_neutrality\": time_to_neutrality_value  # Store the computed value\n",
        "                    })\n",
        "\n",
        "# Convert list to DataFrame\n",
        "df_final = pd.DataFrame(rows)"
      ]
    },
    {
      "cell_type": "code",
      "execution_count": null,
      "metadata": {
        "id": "dcUGdlOIA36G"
      },
      "outputs": [],
      "source": [
        "# Save the final cleaned dataset\n",
        "df_final.to_excel(\"C:/Users/valentin.stuhlfauth/OneDrive - univ-lyon2.fr/Bureau/carbon_budget_CBA_2°C.xlsx\", index=False)"
      ]
    },
    {
      "cell_type": "markdown",
      "metadata": {
        "id": "DYwkR-9GA36G"
      },
      "source": [
        "### 1.5°C"
      ]
    },
    {
      "cell_type": "code",
      "execution_count": null,
      "metadata": {
        "id": "7BKKVj_mA36H"
      },
      "outputs": [],
      "source": [
        "import numpy as np\n",
        "import pandas as pd\n",
        "\n",
        "# Define the global carbon budgets (in GtCO2, converted to MtCO2)\n",
        "BUDGET_GLOBAL_lamboll = {\"33%\": 480, \"50%\": 247, \"67%\": 60}\n",
        "BUDGET_GLOBAL_foster = {\"33%\": 300, \"50%\": 250, \"67%\": 150}\n",
        "\n",
        "# Merge population data with emissions\n",
        "df = population_final.merge(emissions[[\"Country\", \"2022\", \"Total_Emissions_1990_2022\"]],\n",
        "                            left_on=\"corrected_country\", right_on=\"Country\")\n",
        "\n",
        "# Create an empty list to store reformatted rows\n",
        "rows = []\n",
        "\n",
        "# List of year columns from the emissions dataframe (adjust based on your data)\n",
        "year_columns = [str(year) for year in range(1990, 2023)]  # Assuming years are from 1990 to 2022\n",
        "\n",
        "# Iterate over all budget scenarios\n",
        "for source, budgets in [(\"lamboll\", BUDGET_GLOBAL_lamboll), (\"foster\", BUDGET_GLOBAL_foster)]:\n",
        "    for prob, BUDGET_GLOBAL in budgets.items():\n",
        "\n",
        "        BUDGET_TOTAL = BUDGET_GLOBAL * 1000  # Convert to MtCO2\n",
        "\n",
        "        for method in [\"equality\", \"responsability\"]:\n",
        "            if method == \"equality\":\n",
        "                remaining_carbon_budget = (BUDGET_TOTAL / POP_GLOBAL_2050) * df[\"2050\"]\n",
        "            else:\n",
        "                remaining_carbon_budget = (\n",
        "                    (df[\"Total_Emissions_1990_2022\"].sum() + BUDGET_TOTAL) * (df[\"2050\"] / POP_GLOBAL_2050)\n",
        "                    - df[\"Total_Emissions_1990_2022\"]\n",
        "                )\n",
        "\n",
        "            time_to_neutrality_lin = 2 * remaining_carbon_budget / df[\"2022\"]\n",
        "            time_to_neutrality_exp = -np.log(1 - 0.95) * remaining_carbon_budget / df[\"2022\"]\n",
        "\n",
        "            for curve, time_to_neutrality in [(\"linear\", time_to_neutrality_lin), (\"exponential\", time_to_neutrality_exp)]:\n",
        "\n",
        "                for _, row in df.iterrows():\n",
        "                    remaining_budget = remaining_carbon_budget.loc[row.name]\n",
        "                    time_to_neutrality_value = time_to_neutrality.loc[row.name]\n",
        "\n",
        "                    # Check if remaining_carbon_budget is negative and adjust time_to_neutrality\n",
        "                    if remaining_budget < 0:\n",
        "                        # Start summing emissions backwards from 2022\n",
        "                        cumulative_emissions = 0\n",
        "                        country = row[\"Country\"]\n",
        "\n",
        "                        # Iterate through years from 2022 to 1970\n",
        "                        for year in range(2022, 1969, -1):\n",
        "                            # Access the emissions for the country and year from the emissions DataFrame\n",
        "                            emissions_year = emissions.loc[emissions[\"Country\"] == country, str(year)].values[0]\n",
        "                            cumulative_emissions += emissions_year\n",
        "\n",
        "                            # If cumulative emissions exceed the negative remaining budget, break\n",
        "                            if cumulative_emissions >= abs(remaining_budget):\n",
        "                                time_to_neutrality_value = - (2022 - year-1)\n",
        "                                break\n",
        "\n",
        "                    # Append the results to the rows list\n",
        "                    rows.append({\n",
        "                        \"country\": row[\"Country\"],\n",
        "                        \"emission_2022\": row[\"2022\"],\n",
        "                        \"population_2050\": row[\"2050\"],\n",
        "                        \"repartition_method\": method,\n",
        "                        \"source_of_budget\": source,\n",
        "                        \"probability_of_reach\": prob,\n",
        "                        \"curve_type\": curve,\n",
        "                        \"remaining_carbon_budget\": remaining_budget,  # Store the computed value\n",
        "                        \"time_to_neutrality\": time_to_neutrality_value  # Store the computed value\n",
        "                    })\n",
        "\n",
        "# Convert list to DataFrame\n",
        "df_final = pd.DataFrame(rows)"
      ]
    },
    {
      "cell_type": "code",
      "execution_count": null,
      "metadata": {
        "id": "Voeif3DFA36I"
      },
      "outputs": [],
      "source": [
        "# Save the final cleaned dataset\n",
        "df_final.to_excel(\"C:/Users/valentin.stuhlfauth/OneDrive - univ-lyon2.fr/Bureau/carbon_budget_CBA_1.5°C.xlsx\", index=False)"
      ]
    },
    {
      "cell_type": "markdown",
      "metadata": {
        "id": "SeIB_euHA36J"
      },
      "source": [
        "# Merging - Final database"
      ]
    },
    {
      "cell_type": "markdown",
      "metadata": {
        "id": "AFgdQ3zfA36J"
      },
      "source": [
        "## CO2"
      ]
    },
    {
      "cell_type": "code",
      "execution_count": null,
      "metadata": {
        "id": "UGdlyNrbA36J"
      },
      "outputs": [],
      "source": [
        "df_2C = pd.read_excel(\"C:/Users/valentin.stuhlfauth/OneDrive - univ-lyon2.fr/Bureau/carbon_budget_2°C.xlsx\")\n",
        "df_15C = pd.read_excel(\"C:/Users/valentin.stuhlfauth/OneDrive - univ-lyon2.fr/Bureau/carbon_budget_1.5°C.xlsx\")"
      ]
    },
    {
      "cell_type": "code",
      "execution_count": null,
      "metadata": {
        "id": "wufUwR12A36M"
      },
      "outputs": [],
      "source": [
        "df_2C[\"temperature\"]=\"2°C\"\n",
        "df_15C[\"temperature\"]=\"1.5°C\"\n",
        "df_2C[\"scope\"]=\"territorial_CO2\"\n",
        "df_15C[\"scope\"]=\"territorial_CO2\""
      ]
    },
    {
      "cell_type": "code",
      "execution_count": null,
      "metadata": {
        "id": "AVh2PLcZA36N"
      },
      "outputs": [],
      "source": [
        "df = pd.concat([df_15C, df_2C], ignore_index=True)\n",
        "\n",
        "# Save the final cleaned dataset\n",
        "df.to_excel(\"C:/Users/valentin.stuhlfauth/OneDrive - univ-lyon2.fr/Bureau/carbon_budget_CO2.xlsx\", index=False)"
      ]
    },
    {
      "cell_type": "markdown",
      "metadata": {
        "id": "WT0zlJPTA36N"
      },
      "source": [
        "## CBA"
      ]
    },
    {
      "cell_type": "code",
      "execution_count": null,
      "metadata": {
        "id": "4ts7HVE1A36N"
      },
      "outputs": [],
      "source": [
        "df_2C = pd.read_excel(\"C:/Users/valentin.stuhlfauth/OneDrive - univ-lyon2.fr/Bureau/carbon_budget_CBA_2°C.xlsx\")\n",
        "df_15C = pd.read_excel(\"C:/Users/valentin.stuhlfauth/OneDrive - univ-lyon2.fr/Bureau/carbon_budget_CBA_1.5°C.xlsx\")\n",
        "\n",
        "df_2C[\"temperature\"]=\"2°C\"\n",
        "df_15C[\"temperature\"]=\"1.5°C\"\n",
        "df_2C[\"scope\"]=\"consumption_based\"\n",
        "df_15C[\"scope\"]=\"consumption_based\""
      ]
    },
    {
      "cell_type": "code",
      "execution_count": null,
      "metadata": {
        "id": "leysNpVFA36O"
      },
      "outputs": [],
      "source": [
        "df = pd.concat([df_15C, df_2C], ignore_index=True)\n",
        "\n",
        "# Save the final cleaned dataset\n",
        "df.to_excel(\"C:/Users/valentin.stuhlfauth/OneDrive - univ-lyon2.fr/Bureau/carbon_budget_CBA.xlsx\", index=False)"
      ]
    },
    {
      "cell_type": "code",
      "execution_count": null,
      "metadata": {
        "id": "nPoOg9x_A36P"
      },
      "outputs": [],
      "source": []
    }
  ],
  "metadata": {
    "kernelspec": {
      "display_name": "base",
      "language": "python",
      "name": "python3"
    },
    "language_info": {
      "codemirror_mode": {
        "name": "ipython",
        "version": 3
      },
      "file_extension": ".py",
      "mimetype": "text/x-python",
      "name": "python",
      "nbconvert_exporter": "python",
      "pygments_lexer": "ipython3",
      "version": "3.12.3"
    },
    "colab": {
      "provenance": [],
      "include_colab_link": true
    }
  },
  "nbformat": 4,
  "nbformat_minor": 0
}